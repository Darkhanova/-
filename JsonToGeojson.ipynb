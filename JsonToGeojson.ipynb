{
  "nbformat": 4,
  "nbformat_minor": 0,
  "metadata": {
    "colab": {
      "provenance": [],
      "mount_file_id": "1cgLVuJfN-VaEehUhcIxYvHEbIdEiEosM",
      "authorship_tag": "ABX9TyP1CM36bncXm+CS98FwvdnM",
      "include_colab_link": true
    },
    "kernelspec": {
      "name": "python3",
      "display_name": "Python 3"
    },
    "language_info": {
      "name": "python"
    }
  },
  "cells": [
    {
      "cell_type": "markdown",
      "metadata": {
        "id": "view-in-github",
        "colab_type": "text"
      },
      "source": [
        "<a href=\"https://colab.research.google.com/github/Darkhanova/convert_to_geojson/blob/main/JsonToGeojson.ipynb\" target=\"_parent\"><img src=\"https://colab.research.google.com/assets/colab-badge.svg\" alt=\"Open In Colab\"/></a>"
      ]
    },
    {
      "cell_type": "code",
      "source": [
        "import json\n",
        "\n",
        "def create_feature(stop):\n",
        "    return {\n",
        "        \"type\": \"Feature\",\n",
        "        \"geometry\": {\n",
        "            \"type\": \"Point\",\n",
        "            \"coordinates\": [stop['coordinates']['lon'], stop['coordinates']['lat']]\n",
        "        },\n",
        "        \"properties\": {\n",
        "            \"name\": stop['name']\n",
        "        }\n",
        "    }\n",
        "\n",
        "def convert_to_geojson(input_file_path, output_file_path):\n",
        "    with open(input_file_path, 'r', encoding='utf-8') as infile:\n",
        "        input_data = json.load(infile)\n",
        "\n",
        "    geojson = {\n",
        "        \"type\": \"FeatureCollection\",\n",
        "        \"features\": []\n",
        "    }\n",
        "\n",
        "    for route in input_data['routes']:\n",
        "        for stop in route['stops']:\n",
        "            feature = create_feature(stop)\n",
        "            geojson['features'].append(feature)\n",
        "\n",
        "    with open(output_file_path, 'w', encoding='utf-8') as outfile:\n",
        "        json.dump(geojson, outfile, ensure_ascii=False, indent=4)\n",
        "\n",
        "if __name__ == \"__main__\":\n",
        "    input_file_path = \"drive/MyDrive/67 маршрут.json\" # поменять путь к файлу JSON\n",
        "    output_file_path = '67маршрут.geojson'\n",
        "    convert_to_geojson(input_file_path, output_file_path)"
      ],
      "metadata": {
        "id": "h5csznwczYi6"
      },
      "execution_count": 4,
      "outputs": []
    },
    {
      "cell_type": "code",
      "source": [
        "import json\n",
        "\n",
        "def create_feature(stop):\n",
        "    return {\n",
        "        \"type\": \"Feature\",\n",
        "        \"geometry\": {\n",
        "            \"type\": \"Point\",\n",
        "            \"coordinates\": [stop['stop_lon'], stop['stop_lat']]\n",
        "        },\n",
        "        \"properties\": {\n",
        "            \"date\": stop['date'],\n",
        "            \"day\": stop['day'],\n",
        "            \"time\": stop['time'],\n",
        "            \"stop_name\": stop['stop_name']\n",
        "        }\n",
        "    }\n",
        "\n",
        "def convert_to_geojson(input_file_path, output_file_path):\n",
        "    with open(input_file_path, 'r', encoding='utf-8') as infile:\n",
        "        input_data = json.load(infile)\n",
        "\n",
        "    geojson = {\n",
        "        \"type\": \"FeatureCollection\",\n",
        "        \"features\": []\n",
        "    }\n",
        "\n",
        "    for stat in input_data['stats']:\n",
        "        for bus in stat['buses']:\n",
        "            if bus['bus_id'] != '':\n",
        "                for stop in bus['stops']:\n",
        "                    feature = create_feature(stop)\n",
        "                    geojson['features'].append(feature)\n",
        "\n",
        "    with open(output_file_path, 'w', encoding='utf-8') as outfile:\n",
        "        json.dump(geojson, outfile, ensure_ascii=False, indent=4)\n",
        "\n",
        "if __name__ == \"__main__\":\n",
        "    input_file_path = \"drive/MyDrive/Отслеживание автобуса 67 по остановкам.json\"\n",
        "    output_file_path = 'Отслеживание67.geojson'\n",
        "    convert_to_geojson(input_file_path, output_file_path)"
      ],
      "metadata": {
        "id": "m11cmHAR12Ot"
      },
      "execution_count": 3,
      "outputs": []
    }
  ]
}